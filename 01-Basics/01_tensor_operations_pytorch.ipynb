{
  "cells": [
    {
      "cell_type": "markdown",
      "source": [
        "# Tensor Operations with PyTorch"
      ],
      "metadata": {
        "id": "ejmAF3rR90aI"
      },
      "id": "ejmAF3rR90aI"
    },
    {
      "cell_type": "code",
      "execution_count": 1,
      "id": "30b88962-f0bf-4aca-92fe-5b02f54f4f7a",
      "metadata": {
        "id": "30b88962-f0bf-4aca-92fe-5b02f54f4f7a"
      },
      "outputs": [],
      "source": [
        "# Basic Imports\n",
        "import torch\n",
        "import torch.nn as nn"
      ]
    },
    {
      "cell_type": "markdown",
      "source": [
        "## Tensor Creation"
      ],
      "metadata": {
        "id": "rZOYYVt9M0bb"
      },
      "id": "rZOYYVt9M0bb"
    },
    {
      "cell_type": "markdown",
      "source": [
        "### Direct Initialization"
      ],
      "metadata": {
        "id": "Nxg1mQ7100P1"
      },
      "id": "Nxg1mQ7100P1"
    },
    {
      "cell_type": "code",
      "source": [
        "# Create a tensor from a list\n",
        "a = torch.tensor([1, 2, 3])\n",
        "print(f\"a = \\n{a}\")\n",
        "b = torch.tensor([[1, 2], [3, 4]])\n",
        "print(f\"b = \\n{b}\")"
      ],
      "metadata": {
        "colab": {
          "base_uri": "https://localhost:8080/"
        },
        "id": "GzFsTOEf0RVP",
        "outputId": "9e3beff6-a436-4d26-ed92-472fe9315aff"
      },
      "id": "GzFsTOEf0RVP",
      "execution_count": 2,
      "outputs": [
        {
          "output_type": "stream",
          "name": "stdout",
          "text": [
            "a = \n",
            "tensor([1, 2, 3])\n",
            "b = \n",
            "tensor([[1, 2],\n",
            "        [3, 4]])\n"
          ]
        }
      ]
    },
    {
      "cell_type": "code",
      "source": [
        "# Create a tensor of zeros\n",
        "zeros = torch.zeros((2, 3))\n",
        "print(f\"zeros = \\n{zeros}\")"
      ],
      "metadata": {
        "colab": {
          "base_uri": "https://localhost:8080/"
        },
        "id": "DDuY1mTv1L0w",
        "outputId": "921652ee-42bc-4d15-f165-2717039b56ae"
      },
      "id": "DDuY1mTv1L0w",
      "execution_count": 3,
      "outputs": [
        {
          "output_type": "stream",
          "name": "stdout",
          "text": [
            "zeros = \n",
            "tensor([[0., 0., 0.],\n",
            "        [0., 0., 0.]])\n"
          ]
        }
      ]
    },
    {
      "cell_type": "code",
      "source": [
        "# Create a tensor of ones\n",
        "ones = torch.ones((2, 3))\n",
        "print(f\"ones = \\n{ones}\")"
      ],
      "metadata": {
        "colab": {
          "base_uri": "https://localhost:8080/"
        },
        "id": "CJHJziet15yh",
        "outputId": "081374ba-c7c9-42cf-929f-6556a7ca5c56"
      },
      "id": "CJHJziet15yh",
      "execution_count": 4,
      "outputs": [
        {
          "output_type": "stream",
          "name": "stdout",
          "text": [
            "ones = \n",
            "tensor([[1., 1., 1.],\n",
            "        [1., 1., 1.]])\n"
          ]
        }
      ]
    },
    {
      "cell_type": "markdown",
      "source": [
        "### Random Initialization"
      ],
      "metadata": {
        "id": "tWYP7Dt63Ah1"
      },
      "id": "tWYP7Dt63Ah1"
    },
    {
      "cell_type": "code",
      "source": [
        "# Create a tensor with random values between 0 and 1\n",
        "rand_tensor = torch.rand((2, 3))\n",
        "print(f\"rand_tensor = \\n{rand_tensor}\")"
      ],
      "metadata": {
        "colab": {
          "base_uri": "https://localhost:8080/"
        },
        "id": "FF6HsO7z3CTz",
        "outputId": "69d5cf57-69d5-4802-e74b-5f70ca3503bb"
      },
      "id": "FF6HsO7z3CTz",
      "execution_count": 5,
      "outputs": [
        {
          "output_type": "stream",
          "name": "stdout",
          "text": [
            "rand_tensor = \n",
            "tensor([[0.6607, 0.8999, 0.7682],\n",
            "        [0.5018, 0.4473, 0.6859]])\n"
          ]
        }
      ]
    },
    {
      "cell_type": "code",
      "source": [
        "# Create a tensor with random values from normal distribution\n",
        "randn_tensor = torch.randn((2, 3))\n",
        "print(f\"randn_tensor = \\n{randn_tensor}\")"
      ],
      "metadata": {
        "colab": {
          "base_uri": "https://localhost:8080/"
        },
        "id": "p5KOhFgJ3Tlf",
        "outputId": "fa19f423-1cf8-495e-b17c-3c3f20b9add1"
      },
      "id": "p5KOhFgJ3Tlf",
      "execution_count": 6,
      "outputs": [
        {
          "output_type": "stream",
          "name": "stdout",
          "text": [
            "randn_tensor = \n",
            "tensor([[-1.6695,  2.9364,  1.0581],\n",
            "        [-0.8060,  0.6887,  1.2288]])\n"
          ]
        }
      ]
    },
    {
      "cell_type": "markdown",
      "source": [
        "## Addition and Subtraction"
      ],
      "metadata": {
        "id": "Dcrbq2EF3xtC"
      },
      "id": "Dcrbq2EF3xtC"
    },
    {
      "cell_type": "code",
      "source": [
        "A = torch.tensor([1, 2, 3, 4])\n",
        "B = torch.tensor([3, 2, 1, 4])\n",
        "\n",
        "add1 = torch.add(A, B)\n",
        "print(f\"add1 = {add1}\")\n",
        "\n",
        "add2 = A + B\n",
        "print(f\"add2 = {add2}\")\n",
        "\n",
        "sub1 = torch.sub(A, B)\n",
        "print(f\"sub1 = {sub1}\")\n",
        "\n",
        "sub2 = A - B\n",
        "print(f\"sub2 = {sub2}\")"
      ],
      "metadata": {
        "colab": {
          "base_uri": "https://localhost:8080/"
        },
        "id": "5GBp27rrK6Ju",
        "outputId": "475033d3-8576-45ad-824a-9308e7b2c353"
      },
      "id": "5GBp27rrK6Ju",
      "execution_count": 7,
      "outputs": [
        {
          "output_type": "stream",
          "name": "stdout",
          "text": [
            "add1 = tensor([4, 4, 4, 8])\n",
            "add2 = tensor([4, 4, 4, 8])\n",
            "sub1 = tensor([-2,  0,  2,  0])\n",
            "sub2 = tensor([-2,  0,  2,  0])\n"
          ]
        }
      ]
    },
    {
      "cell_type": "markdown",
      "source": [
        "## Multiplication"
      ],
      "metadata": {
        "id": "Spt3t2aL48zP"
      },
      "id": "Spt3t2aL48zP"
    },
    {
      "cell_type": "code",
      "source": [
        "# Element-wise Multiplication\n",
        "\n",
        "# Scalar Multiplication (Scalar -> 0D tensor)\n",
        "a = torch.tensor(3.0)\n",
        "b = torch.tensor(2.0)\n",
        "result = a * b\n",
        "print(f\"a * b = {result}\")\n",
        "\n",
        "c = torch.tensor([1, 2, 3])\n",
        "d = torch.tensor([5, 6, 7])\n",
        "result = c * d\n",
        "print(f\"c * d = {result}\")\n",
        "\n",
        "e = torch.tensor([[2, 3, 4], [7, 3, 4]])\n",
        "f = torch.tensor([[5, 1, 2], [3, 2, 0]])\n",
        "result = e * f\n",
        "print(f\"e * f = {result}\")"
      ],
      "metadata": {
        "colab": {
          "base_uri": "https://localhost:8080/"
        },
        "id": "WrexfYF6NE6p",
        "outputId": "99522dd6-2e5f-4285-857e-cb51b9ea6705"
      },
      "id": "WrexfYF6NE6p",
      "execution_count": 8,
      "outputs": [
        {
          "output_type": "stream",
          "name": "stdout",
          "text": [
            "a * b = 6.0\n",
            "c * d = tensor([ 5, 12, 21])\n",
            "e * f = tensor([[10,  3,  8],\n",
            "        [21,  6,  0]])\n"
          ]
        }
      ]
    },
    {
      "cell_type": "code",
      "source": [
        "# Broadcasting -> Multiplying a tensor by a scalar\n",
        "a = torch.tensor([[2, 3], [4, 7]])\n",
        "b = 2\n",
        "result = a * b\n",
        "print(f\"a * b = {result}\")"
      ],
      "metadata": {
        "colab": {
          "base_uri": "https://localhost:8080/"
        },
        "id": "OFgS4kYA7F9a",
        "outputId": "3d22e125-31c2-4505-9f5d-b1e3056f3012"
      },
      "id": "OFgS4kYA7F9a",
      "execution_count": 9,
      "outputs": [
        {
          "output_type": "stream",
          "name": "stdout",
          "text": [
            "a * b = tensor([[ 4,  6],\n",
            "        [ 8, 14]])\n"
          ]
        }
      ]
    },
    {
      "cell_type": "code",
      "source": [
        "# Vector-Vector Multiplication (Dot Product between two 1D tensors)\n",
        "vector1 = torch.tensor([1, 2, 3, 4])\n",
        "vector2 = torch.tensor([3, 4, 2, 6])\n",
        "\n",
        "result1 = torch.dot(vector1, vector2)\n",
        "print(f\"result1 = {result1}\")\n",
        "\n",
        "result2 = torch.matmul(vector1, vector2)\n",
        "print(f\"result2 = {result2}\")"
      ],
      "metadata": {
        "colab": {
          "base_uri": "https://localhost:8080/"
        },
        "id": "Xa5kM68oOzkY",
        "outputId": "9e23f53e-82df-454c-cba2-dbea39e96dc3"
      },
      "id": "Xa5kM68oOzkY",
      "execution_count": 10,
      "outputs": [
        {
          "output_type": "stream",
          "name": "stdout",
          "text": [
            "result1 = 41\n",
            "result2 = 41\n"
          ]
        }
      ]
    },
    {
      "cell_type": "code",
      "source": [
        "# Matrix-Vector Multiplication (2D tensor with 1D tensor) => Output is a Vector\n",
        "matrix = torch.tensor([[1, 2], [3, 4]])\n",
        "vector = torch.tensor([5, 6])\n",
        "result = torch.matmul(matrix, vector)\n",
        "print(f\"result = {result}\")"
      ],
      "metadata": {
        "colab": {
          "base_uri": "https://localhost:8080/"
        },
        "id": "ZHDeK89nPd2O",
        "outputId": "863fe2e8-35b4-4414-9e2c-d0b471d3e7b7"
      },
      "id": "ZHDeK89nPd2O",
      "execution_count": 11,
      "outputs": [
        {
          "output_type": "stream",
          "name": "stdout",
          "text": [
            "result = tensor([17, 39])\n"
          ]
        }
      ]
    },
    {
      "cell_type": "code",
      "source": [
        "# Matrix-Matrix Multiplication\n",
        "matrix1 = torch.tensor([[1, 2], [3, 4]])\n",
        "matrix2 = torch.tensor([[2, 5], [3, 7]])\n",
        "result1 = torch.matmul(matrix1, matrix2)\n",
        "print(f\"result1 = {result1}\")\n",
        "\n",
        "result2 = torch.mm(matrix1, matrix2)\n",
        "print(f\"result2 = {result2}\")"
      ],
      "metadata": {
        "colab": {
          "base_uri": "https://localhost:8080/"
        },
        "id": "KSnAOa9jR3zG",
        "outputId": "17fc90e2-aa7a-4511-d056-f9865207297a"
      },
      "id": "KSnAOa9jR3zG",
      "execution_count": 12,
      "outputs": [
        {
          "output_type": "stream",
          "name": "stdout",
          "text": [
            "result1 = tensor([[ 8, 19],\n",
            "        [18, 43]])\n",
            "result2 = tensor([[ 8, 19],\n",
            "        [18, 43]])\n"
          ]
        }
      ]
    },
    {
      "cell_type": "markdown",
      "source": [
        "## Exponentiation"
      ],
      "metadata": {
        "id": "rFSCeH6x8inV"
      },
      "id": "rFSCeH6x8inV"
    },
    {
      "cell_type": "code",
      "source": [
        "A = torch.tensor([1, 2, 3, 4])\n",
        "B = torch.tensor([[2, 3], [4, 7]])\n",
        "\n",
        "result = 1 / (1 + torch.exp(A))\n",
        "print(f\"result = {result}\")\n",
        "result = 1 / (1 + torch.exp(B))\n",
        "print(f\"result = {result}\")"
      ],
      "metadata": {
        "colab": {
          "base_uri": "https://localhost:8080/"
        },
        "id": "ACR2mxQdTofe",
        "outputId": "a01a2bdc-9583-441e-bba1-f5d9a4132ef1"
      },
      "id": "ACR2mxQdTofe",
      "execution_count": 13,
      "outputs": [
        {
          "output_type": "stream",
          "name": "stdout",
          "text": [
            "result = tensor([0.2689, 0.1192, 0.0474, 0.0180])\n",
            "result = tensor([[0.1192, 0.0474],\n",
            "        [0.0180, 0.0009]])\n"
          ]
        }
      ]
    },
    {
      "cell_type": "markdown",
      "source": [
        "## Clamp"
      ],
      "metadata": {
        "id": "rXKDjDml8_Q_"
      },
      "id": "rXKDjDml8_Q_"
    },
    {
      "cell_type": "code",
      "source": [
        "a = torch.tensor([1, 3, 5, 7, 10, 13, 15])\n",
        "\n",
        "# Clamp values between 2 and 11\n",
        "result = torch.clamp(a, min=2, max=11)\n",
        "print(f\"result = {result}\")"
      ],
      "metadata": {
        "colab": {
          "base_uri": "https://localhost:8080/"
        },
        "id": "6uY9ZtRe9AqE",
        "outputId": "e2c40fc8-dd0c-4250-c4d4-dacd5fdced49"
      },
      "id": "6uY9ZtRe9AqE",
      "execution_count": 14,
      "outputs": [
        {
          "output_type": "stream",
          "name": "stdout",
          "text": [
            "result = tensor([ 2,  3,  5,  7, 10, 11, 11])\n"
          ]
        }
      ]
    },
    {
      "cell_type": "markdown",
      "source": [
        "## Max and Min"
      ],
      "metadata": {
        "id": "Bt-Gczgm9lX5"
      },
      "id": "Bt-Gczgm9lX5"
    },
    {
      "cell_type": "code",
      "source": [
        "a = torch.tensor([3, 7, 1, 9, 4])\n",
        "\n",
        "# Find maximum and minimum values\n",
        "max_val = torch.max(a)\n",
        "min_val = torch.min(a)\n",
        "\n",
        "print(f\"max_val = {max_val}\")\n",
        "print(f\"min_val = {min_val}\")"
      ],
      "metadata": {
        "colab": {
          "base_uri": "https://localhost:8080/"
        },
        "id": "-DuL4cxi9m_O",
        "outputId": "3d34b64f-a3d8-477d-89d1-759f85adca19"
      },
      "id": "-DuL4cxi9m_O",
      "execution_count": 15,
      "outputs": [
        {
          "output_type": "stream",
          "name": "stdout",
          "text": [
            "max_val = 9\n",
            "min_val = 1\n"
          ]
        }
      ]
    },
    {
      "cell_type": "markdown",
      "source": [
        "## Reshaping"
      ],
      "metadata": {
        "id": "kyygb9an-Nld"
      },
      "id": "kyygb9an-Nld"
    },
    {
      "cell_type": "code",
      "source": [
        "a = torch.arange(1, 13)  # 1D tensor with values from 1 to 12\n",
        "\n",
        "reshaped_tensor1 = a.view((2, 6))  # Reshape it to 2 x 6 matrix\n",
        "print(f\"reshaped_tensor1 = {reshaped_tensor1}\")\n",
        "\n",
        "reshaped_tensor2 = a.reshape((4, 3))  # Reshape it to 4 x 3 matrix\n",
        "print(f\"reshaped_tensor2 = {reshaped_tensor2}\")"
      ],
      "metadata": {
        "colab": {
          "base_uri": "https://localhost:8080/"
        },
        "id": "wsOb22Dl-PK9",
        "outputId": "3c552e91-293f-45a3-b102-7c61bdf05eec"
      },
      "id": "wsOb22Dl-PK9",
      "execution_count": 16,
      "outputs": [
        {
          "output_type": "stream",
          "name": "stdout",
          "text": [
            "reshaped_tensor1 = tensor([[ 1,  2,  3,  4,  5,  6],\n",
            "        [ 7,  8,  9, 10, 11, 12]])\n",
            "reshaped_tensor2 = tensor([[ 1,  2,  3],\n",
            "        [ 4,  5,  6],\n",
            "        [ 7,  8,  9],\n",
            "        [10, 11, 12]])\n"
          ]
        }
      ]
    },
    {
      "cell_type": "markdown",
      "source": [
        "## Concatenation"
      ],
      "metadata": {
        "id": "_IFTL0-p-4wH"
      },
      "id": "_IFTL0-p-4wH"
    },
    {
      "cell_type": "code",
      "source": [
        "a = torch.tensor([[2, 3], [4, 5]])\n",
        "b = torch.tensor([[5, 9]])\n",
        "\n",
        "# Concat along dimension 0\n",
        "concated_tensor = torch.cat((a, b), dim=0)\n",
        "print(f\"concated_tensor = \\n{concated_tensor}\")"
      ],
      "metadata": {
        "colab": {
          "base_uri": "https://localhost:8080/"
        },
        "id": "TOjn4_p_-6gW",
        "outputId": "473ab2b0-49a5-4cd4-9ae6-435203c66f93"
      },
      "id": "TOjn4_p_-6gW",
      "execution_count": 17,
      "outputs": [
        {
          "output_type": "stream",
          "name": "stdout",
          "text": [
            "concated_tensor = \n",
            "tensor([[2, 3],\n",
            "        [4, 5],\n",
            "        [5, 9]])\n"
          ]
        }
      ]
    },
    {
      "cell_type": "markdown",
      "source": [
        "## Summation"
      ],
      "metadata": {
        "id": "C9Saf1xB_2OP"
      },
      "id": "C9Saf1xB_2OP"
    },
    {
      "cell_type": "code",
      "source": [
        "tensor = torch.tensor([[1, 2], [3, 4]])\n",
        "\n",
        "sum_ = torch.sum(tensor)\n",
        "print(f\"Sum of all elements = {sum_}\")"
      ],
      "metadata": {
        "colab": {
          "base_uri": "https://localhost:8080/"
        },
        "id": "VRDKFnvB_4CG",
        "outputId": "f6241ef1-9aa8-44fa-dd49-6baf76f12842"
      },
      "id": "VRDKFnvB_4CG",
      "execution_count": 18,
      "outputs": [
        {
          "output_type": "stream",
          "name": "stdout",
          "text": [
            "Sum of all elements = 10\n"
          ]
        }
      ]
    }
  ],
  "metadata": {
    "kernelspec": {
      "display_name": "Python 3",
      "name": "python3"
    },
    "language_info": {
      "name": "python"
    },
    "colab": {
      "provenance": []
    }
  },
  "nbformat": 4,
  "nbformat_minor": 5
}