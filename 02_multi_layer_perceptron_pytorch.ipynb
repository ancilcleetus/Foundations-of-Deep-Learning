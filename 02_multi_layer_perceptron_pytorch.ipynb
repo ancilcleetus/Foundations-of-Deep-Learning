{
  "cells": [
    {
      "cell_type": "markdown",
      "source": [
        "# A Multi-Layer Perceptron with PyTorch"
      ],
      "metadata": {
        "id": "ejmAF3rR90aI"
      },
      "id": "ejmAF3rR90aI"
    },
    {
      "cell_type": "code",
      "execution_count": 1,
      "id": "30b88962-f0bf-4aca-92fe-5b02f54f4f7a",
      "metadata": {
        "id": "30b88962-f0bf-4aca-92fe-5b02f54f4f7a"
      },
      "outputs": [],
      "source": [
        "# Basic Imports\n",
        "import torch\n",
        "import torch.nn as nn"
      ]
    },
    {
      "cell_type": "code",
      "source": [
        "# Neuron with 3 inputs & 1 output\n",
        "neuron = nn.Linear(3, 1, bias=False)\n",
        "print(neuron)"
      ],
      "metadata": {
        "colab": {
          "base_uri": "https://localhost:8080/"
        },
        "id": "KnfWGR9igHWB",
        "outputId": "e734386d-bafa-4e69-c20f-e6598db41d28"
      },
      "id": "KnfWGR9igHWB",
      "execution_count": 2,
      "outputs": [
        {
          "output_type": "stream",
          "name": "stdout",
          "text": [
            "Linear(in_features=3, out_features=1, bias=False)\n"
          ]
        }
      ]
    },
    {
      "cell_type": "code",
      "execution_count": 3,
      "id": "c6f9ba73-1cab-4f91-a3c3-57fa76e30841",
      "metadata": {
        "id": "c6f9ba73-1cab-4f91-a3c3-57fa76e30841",
        "colab": {
          "base_uri": "https://localhost:8080/"
        },
        "outputId": "ef2cdcd4-872d-41d4-b6a2-e7a749859a5e"
      },
      "outputs": [
        {
          "output_type": "stream",
          "name": "stdout",
          "text": [
            "Sequential(\n",
            "  (0): Linear(in_features=3, out_features=20, bias=True)\n",
            "  (1): ReLU()\n",
            "  (2): Linear(in_features=20, out_features=2, bias=True)\n",
            ")\n"
          ]
        }
      ],
      "source": [
        "# Multi-Layer Perceptron with 3 inputs & 2 outputs (20 is the hidden dimension)\n",
        "model = nn.Sequential(\n",
        "    nn.Linear(3, 20),\n",
        "    nn.ReLU(),\n",
        "    nn.Linear(20, 2)\n",
        ")\n",
        "print(model)"
      ]
    }
  ],
  "metadata": {
    "kernelspec": {
      "display_name": "Python 3",
      "name": "python3"
    },
    "language_info": {
      "name": "python"
    },
    "colab": {
      "provenance": [],
      "gpuType": "T4"
    },
    "accelerator": "GPU"
  },
  "nbformat": 4,
  "nbformat_minor": 5
}
