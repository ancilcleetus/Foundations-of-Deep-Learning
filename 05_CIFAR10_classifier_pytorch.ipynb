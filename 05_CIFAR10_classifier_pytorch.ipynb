{
  "cells": [
    {
      "cell_type": "markdown",
      "source": [
        "# CIFAR10 Classifier with PyTorch"
      ],
      "metadata": {
        "id": "ejmAF3rR90aI"
      },
      "id": "ejmAF3rR90aI"
    },
    {
      "cell_type": "code",
      "execution_count": null,
      "id": "30b88962-f0bf-4aca-92fe-5b02f54f4f7a",
      "metadata": {
        "id": "30b88962-f0bf-4aca-92fe-5b02f54f4f7a"
      },
      "outputs": [],
      "source": [
        "# Basic Imports\n",
        "import torch\n",
        "import torch.nn as nn"
      ]
    },
    {
      "cell_type": "code",
      "source": [
        "# Method 1\n",
        "model = nn.Sequential(\n",
        "    nn.Linear(3072, 128),\n",
        "    nn.ReLU(),\n",
        "    nn.Linear(128, 64),\n",
        "    nn.ReLU(),\n",
        "    nn.Linear(64, 10)\n",
        ")"
      ],
      "metadata": {
        "id": "OAZzkiIN1Sun"
      },
      "id": "OAZzkiIN1Sun",
      "execution_count": null,
      "outputs": []
    },
    {
      "cell_type": "code",
      "source": [
        "# Method 2\n",
        "class Model(nn.Module):\n",
        "  def __init__(self):\n",
        "    super(Model, self).__init__()\n",
        "    self.linear1 = nn.Linear(3072, 128)\n",
        "    self.linear2 = nn.Linear(128, 64)\n",
        "    self.linear3 = nn.Linear(64, 10)\n",
        "\n",
        "  def forward(self, x):\n",
        "    hidden1 = torch.relu(self.linear1(x))\n",
        "    hidden2 = torch.relu(self.linear2(hidden1))\n",
        "    out = self.linear3(hidden2)\n",
        "    return out\n",
        "\n",
        "model = Model()"
      ],
      "metadata": {
        "id": "RnauycDW1kub"
      },
      "id": "RnauycDW1kub",
      "execution_count": null,
      "outputs": []
    },
    {
      "cell_type": "code",
      "source": [
        "inputs, labels = data\n",
        "\n",
        "# Clear gradient buffers\n",
        "optimizer.zero_grad()\n",
        "\n",
        "# Forward pass\n",
        "outputs = model(inputs)\n",
        "\n",
        "# Loss\n",
        "loss = criterion(outputs, labels)\n",
        "\n",
        "# Backpropagation (find gradients)\n",
        "loss.backward()\n",
        "\n",
        "# Update weights\n",
        "optimizer.step()"
      ],
      "metadata": {
        "id": "WnZhsBjN4Q1v"
      },
      "id": "WnZhsBjN4Q1v",
      "execution_count": null,
      "outputs": []
    }
  ],
  "metadata": {
    "kernelspec": {
      "display_name": "Python 3",
      "name": "python3"
    },
    "language_info": {
      "name": "python"
    },
    "colab": {
      "provenance": [],
      "gpuType": "T4"
    },
    "accelerator": "GPU"
  },
  "nbformat": 4,
  "nbformat_minor": 5
}