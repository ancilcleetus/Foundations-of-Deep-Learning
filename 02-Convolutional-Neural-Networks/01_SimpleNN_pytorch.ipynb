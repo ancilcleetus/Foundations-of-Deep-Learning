{
  "cells": [
    {
      "cell_type": "markdown",
      "source": [
        "# A Simple Neural Net with PyTorch"
      ],
      "metadata": {
        "id": "ejmAF3rR90aI"
      },
      "id": "ejmAF3rR90aI"
    },
    {
      "cell_type": "markdown",
      "source": [
        "## Neural Net Definition"
      ],
      "metadata": {
        "id": "mfrsCSZJR62A"
      },
      "id": "mfrsCSZJR62A"
    },
    {
      "cell_type": "code",
      "execution_count": 1,
      "id": "30b88962-f0bf-4aca-92fe-5b02f54f4f7a",
      "metadata": {
        "id": "30b88962-f0bf-4aca-92fe-5b02f54f4f7a"
      },
      "outputs": [],
      "source": [
        "# Basic Imports\n",
        "import torch\n",
        "import torch.nn as nn"
      ]
    },
    {
      "cell_type": "code",
      "source": [
        "# Method 1\n",
        "model = nn.Sequential(\n",
        "    nn.Linear(32 * 32 * 3, 128),\n",
        "    nn.ReLU(),\n",
        "    nn.Linear(128, 64),\n",
        "    nn.ReLU(),\n",
        "    nn.Linear(64, 10)\n",
        ")"
      ],
      "metadata": {
        "id": "OAZzkiIN1Sun"
      },
      "id": "OAZzkiIN1Sun",
      "execution_count": 2,
      "outputs": []
    },
    {
      "cell_type": "code",
      "source": [
        "# Method 2\n",
        "class SimpleNN(nn.Module):\n",
        "  def __init__(self):\n",
        "    super(SimpleNN, self).__init__()\n",
        "    self.fc1 = nn.Linear(32 * 32 * 3, 128)  # First hidden layer with 128 neurons\n",
        "    self.fc2 = nn.Linear(128, 64)  # Second hidden layer with 64 neurons\n",
        "    self.fc3 = nn.Linear(64, 10)  # Output layer with 10 neurons (10 classes in CIFAR-10 dataset)\n",
        "\n",
        "  def forward(self, x):\n",
        "    x = x.view(-1, 32 * 32 * 3)  # Flatten the input image to a 1D tensor (-1 used as a placeholder to infer the batch size automatically)\n",
        "    x = torch.relu(self.fc1(x))  # Apply ReLU Actviation to the first hidden layer\n",
        "    x = torch.relu(self.fc2(x))  # Apply ReLU Activation to the second hidden layer\n",
        "    x = self.fc3(x)  # Output layer (no activation function)\n",
        "    return x\n"
      ],
      "metadata": {
        "id": "RnauycDW1kub"
      },
      "id": "RnauycDW1kub",
      "execution_count": 3,
      "outputs": []
    },
    {
      "cell_type": "markdown",
      "source": [
        "## Load and preprocess CIFAR-10 dataset"
      ],
      "metadata": {
        "id": "fco6Dhh8R3y_"
      },
      "id": "fco6Dhh8R3y_"
    },
    {
      "cell_type": "code",
      "source": [
        "import torch.optim as optim\n",
        "import torchvision\n",
        "import torchvision.transforms as transforms"
      ],
      "metadata": {
        "id": "WCuz79Z8SKZM"
      },
      "id": "WCuz79Z8SKZM",
      "execution_count": 4,
      "outputs": []
    },
    {
      "cell_type": "code",
      "source": [
        "# Define a series of image transformations\n",
        "transform = transforms.Compose(\n",
        "    [\n",
        "        transforms.ToTensor(),  # Convert images to PyTorch tensors\n",
        "        # Normalize pixel values in 3 channels (convert from [0, 255] to [0, 1] to [-1, 1])\n",
        "        transforms.Normalize((0.5, 0.5, 0.5), (0.5, 0.5, 0.5))\n",
        "    ]\n",
        ")\n",
        "\n",
        "trainset = torchvision.datasets.CIFAR10(root=\"./data\", train=True, download=True, transform=transform)\n",
        "testset = torchvision.datasets.CIFAR10(root=\"./data\", train=False, download=True, transform=transform)\n",
        "\n",
        "# Dataloaders that handle batching, shuffling & parallel data loading for train & test datasets\n",
        "trainloader = torch.utils.data.DataLoader(trainset, batch_size=4, shuffle=True, num_workers=2)\n",
        "testloader = torch.utils.data.DataLoader(testset, batch_size=4, shuffle=False, num_workers=2)"
      ],
      "metadata": {
        "colab": {
          "base_uri": "https://localhost:8080/"
        },
        "id": "XiIV8q6ZSaim",
        "outputId": "c1a959ed-bbcf-4fe7-d096-5b760a445e7c"
      },
      "id": "XiIV8q6ZSaim",
      "execution_count": 5,
      "outputs": [
        {
          "output_type": "stream",
          "name": "stdout",
          "text": [
            "Downloading https://www.cs.toronto.edu/~kriz/cifar-10-python.tar.gz to ./data/cifar-10-python.tar.gz\n"
          ]
        },
        {
          "output_type": "stream",
          "name": "stderr",
          "text": [
            "100%|██████████| 170498071/170498071 [00:01<00:00, 90614969.17it/s]\n"
          ]
        },
        {
          "output_type": "stream",
          "name": "stdout",
          "text": [
            "Extracting ./data/cifar-10-python.tar.gz to ./data\n",
            "Files already downloaded and verified\n"
          ]
        }
      ]
    },
    {
      "cell_type": "markdown",
      "source": [
        "## Define Model, Loss function and Optimizer"
      ],
      "metadata": {
        "id": "Cb4XYjMXdXsv"
      },
      "id": "Cb4XYjMXdXsv"
    },
    {
      "cell_type": "code",
      "source": [
        "# Create an instance of SimpleNN class\n",
        "model = SimpleNN()\n",
        "\n",
        "# Cross Entropy Loss for Multi-Class Classification\n",
        "criterion = nn.CrossEntropyLoss()\n",
        "\n",
        "# Mini-Batch Stochastic Gradient Descent Optimizer\n",
        "# model.parameters() -> parameters to be updated\n",
        "# lr -> learning rate that controls stepsize of weight updates\n",
        "# momentum -> to accelerate convergence\n",
        "optimizer = optim.SGD(model.parameters(), lr=0.001, momentum=0.9)"
      ],
      "metadata": {
        "id": "Sc7a52qlcUUu"
      },
      "id": "Sc7a52qlcUUu",
      "execution_count": 6,
      "outputs": []
    },
    {
      "cell_type": "markdown",
      "source": [
        "## Train SimpleNN model for \"n\" epochs"
      ],
      "metadata": {
        "id": "QGrQXbAIotBa"
      },
      "id": "QGrQXbAIotBa"
    },
    {
      "cell_type": "code",
      "source": [
        "n_epochs = 5\n",
        "for epoch in range(n_epochs):\n",
        "  running_loss = 0.0\n",
        "\n",
        "  for i, data in enumerate(trainloader, 0):\n",
        "    inputs, labels = data  # data is a list of [inputs, labels]\n",
        "\n",
        "    # Zero the parameter gradients\n",
        "    optimizer.zero_grad()\n",
        "\n",
        "    # Forward Pass\n",
        "    outputs = model(inputs)\n",
        "\n",
        "    # Loss Calculation\n",
        "    loss = criterion(outputs, labels)\n",
        "\n",
        "    # Backpropagation (find gradients)\n",
        "    loss.backward()\n",
        "\n",
        "    # Update parameters\n",
        "    optimizer.step()\n",
        "\n",
        "    # Extract numerical value of loss\n",
        "    loss_value = loss.item()\n",
        "\n",
        "    # Print statistics\n",
        "    running_loss += loss_value\n",
        "\n",
        "    if (i + 1) % 2000 == 0:  # Print every 2000 mini-batches\n",
        "      print(f\"Epoch {epoch + 1} Mini-Batch {i + 1:5d} -> Loss = {running_loss / 2000:.3f}\")\n",
        "      running_loss = 0.0\n",
        "\n",
        "print(f\"Finished training for {n_epochs} epochs\")"
      ],
      "metadata": {
        "colab": {
          "base_uri": "https://localhost:8080/"
        },
        "id": "FVZ0vVwso01N",
        "outputId": "a9697229-b131-4ab8-a53a-fb0e2d7d27fc"
      },
      "id": "FVZ0vVwso01N",
      "execution_count": 7,
      "outputs": [
        {
          "output_type": "stream",
          "name": "stdout",
          "text": [
            "Epoch 1 Mini-Batch  2000 -> Loss = 1.941\n",
            "Epoch 1 Mini-Batch  4000 -> Loss = 1.748\n",
            "Epoch 1 Mini-Batch  6000 -> Loss = 1.680\n",
            "Epoch 1 Mini-Batch  8000 -> Loss = 1.623\n",
            "Epoch 1 Mini-Batch 10000 -> Loss = 1.582\n",
            "Epoch 1 Mini-Batch 12000 -> Loss = 1.563\n",
            "Epoch 2 Mini-Batch  2000 -> Loss = 1.514\n",
            "Epoch 2 Mini-Batch  4000 -> Loss = 1.476\n",
            "Epoch 2 Mini-Batch  6000 -> Loss = 1.469\n",
            "Epoch 2 Mini-Batch  8000 -> Loss = 1.462\n",
            "Epoch 2 Mini-Batch 10000 -> Loss = 1.459\n",
            "Epoch 2 Mini-Batch 12000 -> Loss = 1.443\n",
            "Epoch 3 Mini-Batch  2000 -> Loss = 1.389\n",
            "Epoch 3 Mini-Batch  4000 -> Loss = 1.367\n",
            "Epoch 3 Mini-Batch  6000 -> Loss = 1.390\n",
            "Epoch 3 Mini-Batch  8000 -> Loss = 1.367\n",
            "Epoch 3 Mini-Batch 10000 -> Loss = 1.394\n",
            "Epoch 3 Mini-Batch 12000 -> Loss = 1.363\n",
            "Epoch 4 Mini-Batch  2000 -> Loss = 1.301\n",
            "Epoch 4 Mini-Batch  4000 -> Loss = 1.327\n",
            "Epoch 4 Mini-Batch  6000 -> Loss = 1.312\n",
            "Epoch 4 Mini-Batch  8000 -> Loss = 1.311\n",
            "Epoch 4 Mini-Batch 10000 -> Loss = 1.315\n",
            "Epoch 4 Mini-Batch 12000 -> Loss = 1.313\n",
            "Epoch 5 Mini-Batch  2000 -> Loss = 1.239\n",
            "Epoch 5 Mini-Batch  4000 -> Loss = 1.241\n",
            "Epoch 5 Mini-Batch  6000 -> Loss = 1.261\n",
            "Epoch 5 Mini-Batch  8000 -> Loss = 1.280\n",
            "Epoch 5 Mini-Batch 10000 -> Loss = 1.260\n",
            "Epoch 5 Mini-Batch 12000 -> Loss = 1.287\n",
            "Finished training for 5 epochs\n"
          ]
        }
      ]
    },
    {
      "cell_type": "markdown",
      "source": [
        "## Metrics"
      ],
      "metadata": {
        "id": "OSGE6Qn5uwe3"
      },
      "id": "OSGE6Qn5uwe3"
    },
    {
      "cell_type": "code",
      "source": [
        "import matplotlib.pyplot as plt"
      ],
      "metadata": {
        "id": "OZGZ8UVivIlV"
      },
      "id": "OZGZ8UVivIlV",
      "execution_count": 8,
      "outputs": []
    },
    {
      "cell_type": "markdown",
      "source": [
        "### Accuracy"
      ],
      "metadata": {
        "id": "j2sQZ28vu16z"
      },
      "id": "j2sQZ28vu16z"
    },
    {
      "cell_type": "code",
      "source": [
        "# Set SimpleNN model to evaluation mode\n",
        "\n",
        "# Dropout layers drops out (sets to zero) a fraction of the neurons in a layer during each forward pass\n",
        "# Batch Normalization layers normalize the activations of each layer so that\n",
        "# they have a mean of zero and a standard deviation of one\n",
        "\n",
        "# In evaluation mode\n",
        "# 1- Dropout layers are turned off\n",
        "# 2- Batch Normalization layers do not compute new batch statistics (mean & standard deviation),\n",
        "#    instead they use learned statistics from training\n",
        "model.eval()\n",
        "\n",
        "# Initialize variables to keep track of correct predictions and total test samples\n",
        "correct, total = 0, 0\n",
        "\n",
        "# List to store accuracy values for each batch\n",
        "accuracy_values = []\n",
        "\n",
        "# Disable gradient computation for evaluation\n",
        "with torch.no_grad():\n",
        "  for batch_num, data in enumerate(testloader, 1):\n",
        "    images, labels = data\n",
        "\n",
        "    outputs = model(images)\n",
        "    _, predicted = torch.max(outputs, 1)\n",
        "\n",
        "    n_total_labels = labels.size(0)\n",
        "    n_correct_labels = (predicted == labels).sum().item()\n",
        "\n",
        "    total += n_total_labels\n",
        "    correct += n_correct_labels\n",
        "\n",
        "    # Calculate accuracy for the current batch\n",
        "    batch_accuracy = n_correct_labels / n_total_labels\n",
        "\n",
        "    # Print accuracy every 100 batches\n",
        "    if batch_num % 100 == 0:\n",
        "        accuracy = 100 * correct / total\n",
        "        accuracy_values.append(accuracy)\n",
        "        print(f'Batch {batch_num}: Accuracy = {accuracy:.2f}%')\n",
        "    accuracy_values.append(batch_accuracy)\n",
        "\n",
        "# Calculate the overall accuracy\n",
        "accuracy = 100 * correct / total\n",
        "print(f\"Accuracy on the test images: {accuracy:.2f}%\")\n"
      ],
      "metadata": {
        "id": "LqrBdIpvu4UJ",
        "colab": {
          "base_uri": "https://localhost:8080/"
        },
        "outputId": "f7c5d123-315b-4d53-fae5-3321ae935fdf"
      },
      "id": "LqrBdIpvu4UJ",
      "execution_count": 11,
      "outputs": [
        {
          "output_type": "stream",
          "name": "stdout",
          "text": [
            "Batch 100: Accuracy = 50.25%\n",
            "Batch 200: Accuracy = 49.75%\n",
            "Batch 300: Accuracy = 53.08%\n",
            "Batch 400: Accuracy = 53.38%\n",
            "Batch 500: Accuracy = 52.85%\n",
            "Batch 600: Accuracy = 52.83%\n",
            "Batch 700: Accuracy = 52.50%\n",
            "Batch 800: Accuracy = 52.00%\n",
            "Batch 900: Accuracy = 51.97%\n",
            "Batch 1000: Accuracy = 52.10%\n",
            "Batch 1100: Accuracy = 52.30%\n",
            "Batch 1200: Accuracy = 52.33%\n",
            "Batch 1300: Accuracy = 52.19%\n",
            "Batch 1400: Accuracy = 51.79%\n",
            "Batch 1500: Accuracy = 51.78%\n",
            "Batch 1600: Accuracy = 51.64%\n",
            "Batch 1700: Accuracy = 51.65%\n",
            "Batch 1800: Accuracy = 51.43%\n",
            "Batch 1900: Accuracy = 51.46%\n",
            "Batch 2000: Accuracy = 51.33%\n",
            "Batch 2100: Accuracy = 51.20%\n",
            "Batch 2200: Accuracy = 51.23%\n",
            "Batch 2300: Accuracy = 51.25%\n",
            "Batch 2400: Accuracy = 51.19%\n",
            "Batch 2500: Accuracy = 51.04%\n",
            "Accuracy on the test images: 51.04%\n"
          ]
        }
      ]
    },
    {
      "cell_type": "code",
      "source": [
        "# Plot the accuracy values for every 100 batches\n",
        "plt.figure(figsize=(10, 5))\n",
        "plt.plot(accuracy_values, marker='o', linestyle='-')\n",
        "plt.title('Accuracy Per Batch on Test Data')\n",
        "plt.xlabel('Batch')\n",
        "plt.ylabel('Accuracy')\n",
        "plt.grid(True)\n",
        "plt.show()"
      ],
      "metadata": {
        "colab": {
          "base_uri": "https://localhost:8080/",
          "height": 487
        },
        "id": "OqQR7OMbZN5w",
        "outputId": "e93e41b2-89dd-4d42-d052-fcde86bf6ebb"
      },
      "id": "OqQR7OMbZN5w",
      "execution_count": 12,
      "outputs": [
        {
          "output_type": "display_data",
          "data": {
            "text/plain": [
              "<Figure size 1000x500 with 1 Axes>"
            ],
            "image/png": "[encoded data removed]"
          },
          "metadata": {}
        }
      ]
    }
  ],
  "metadata": {
    "kernelspec": {
      "display_name": "Python 3",
      "name": "python3"
    },
    "language_info": {
      "name": "python"
    },
    "colab": {
      "provenance": [],
      "gpuType": "T4"
    },
    "accelerator": "GPU"
  },
  "nbformat": 4,
  "nbformat_minor": 5
}