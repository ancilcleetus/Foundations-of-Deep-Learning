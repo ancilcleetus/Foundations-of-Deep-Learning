{
  "cells": [
    {
      "cell_type": "markdown",
      "source": [
        "# A Simple Neural Net with PyTorch"
      ],
      "metadata": {
        "id": "ejmAF3rR90aI"
      },
      "id": "ejmAF3rR90aI"
    },
    {
      "cell_type": "code",
      "execution_count": null,
      "id": "30b88962-f0bf-4aca-92fe-5b02f54f4f7a",
      "metadata": {
        "id": "30b88962-f0bf-4aca-92fe-5b02f54f4f7a"
      },
      "outputs": [],
      "source": [
        "# Basic Imports\n",
        "import torch\n",
        "import torch.nn as nn"
      ]
    },
    {
      "cell_type": "code",
      "source": [
        "# Method 1\n",
        "model = nn.Sequential(\n",
        "    nn.Linear(32 * 32 * 3, 128),\n",
        "    nn.ReLU(),\n",
        "    nn.Linear(128, 64),\n",
        "    nn.ReLU(),\n",
        "    nn.Linear(64, 10)\n",
        ")"
      ],
      "metadata": {
        "id": "OAZzkiIN1Sun"
      },
      "id": "OAZzkiIN1Sun",
      "execution_count": null,
      "outputs": []
    },
    {
      "cell_type": "code",
      "source": [
        "# Method 2\n",
        "class Model(nn.Module):\n",
        "  def __init__(self):\n",
        "    super(Model, self).__init__()\n",
        "    self.fc1 = nn.Linear(32 * 32 * 3, 128)  # First hidden layer with 128 neurons\n",
        "    self.fc2 = nn.Linear(128, 64)  # Second hidden layer with 64 neurons\n",
        "    self.fc3 = nn.Linear(64, 10)  # Output layer with 10 neurons (10 classes in CIFAR-10 dataset)\n",
        "\n",
        "  def forward(self, x):\n",
        "    x = x.view(-1, 32 * 32 * 3)  # Flatten the input image to a 1D tensor (-1 used as a placeholder to infer the batch size automatically)\n",
        "    x = torch.relu(self.fc1(x))  # Apply ReLU Actviation to the first hidden layer\n",
        "    x = torch.relu(self.fc2(x))  # Apply ReLU Activation to the second hidden layer\n",
        "    x = self.fc3(x)  # Output layer (no activation function)\n",
        "    return x\n",
        "\n",
        "model = Model()"
      ],
      "metadata": {
        "id": "RnauycDW1kub"
      },
      "id": "RnauycDW1kub",
      "execution_count": null,
      "outputs": []
    },
    {
      "cell_type": "code",
      "source": [
        "inputs, labels = data\n",
        "\n",
        "# Clear gradient buffers\n",
        "optimizer.zero_grad()\n",
        "\n",
        "# Forward pass\n",
        "outputs = model(inputs)\n",
        "\n",
        "# Loss\n",
        "loss = criterion(outputs, labels)\n",
        "\n",
        "# Backpropagation (find gradients)\n",
        "loss.backward()\n",
        "\n",
        "# Update weights\n",
        "optimizer.step()"
      ],
      "metadata": {
        "id": "WnZhsBjN4Q1v"
      },
      "id": "WnZhsBjN4Q1v",
      "execution_count": null,
      "outputs": []
    }
  ],
  "metadata": {
    "kernelspec": {
      "display_name": "Python 3",
      "name": "python3"
    },
    "language_info": {
      "name": "python"
    },
    "colab": {
      "provenance": [],
      "gpuType": "T4"
    },
    "accelerator": "GPU"
  },
  "nbformat": 4,
  "nbformat_minor": 5
}