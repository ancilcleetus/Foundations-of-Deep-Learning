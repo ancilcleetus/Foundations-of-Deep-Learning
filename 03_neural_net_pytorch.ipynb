{
  "cells": [
    {
      "cell_type": "markdown",
      "source": [
        "#Build a Neural Network with PyTorch"
      ],
      "metadata": {
        "id": "ejmAF3rR90aI"
      },
      "id": "ejmAF3rR90aI"
    },
    {
      "cell_type": "code",
      "execution_count": 1,
      "id": "30b88962-f0bf-4aca-92fe-5b02f54f4f7a",
      "metadata": {
        "id": "30b88962-f0bf-4aca-92fe-5b02f54f4f7a"
      },
      "outputs": [],
      "source": [
        "# Basic Imports\n",
        "import torch\n",
        "import torch.nn as nn"
      ]
    },
    {
      "cell_type": "markdown",
      "source": [
        "##Basic Operations"
      ],
      "metadata": {
        "id": "rZOYYVt9M0bb"
      },
      "id": "rZOYYVt9M0bb"
    },
    {
      "cell_type": "code",
      "source": [
        "A = torch.tensor([1, 2, 3, 4])\n",
        "B = torch.tensor([3, 2, 1, 4])\n",
        "C = torch.tensor([[1, 2], [3, 4]])\n",
        "\n",
        "print(f\"A = {A}\")\n",
        "print(f\"B = {B}\")\n",
        "print(f\"C = {C}\")"
      ],
      "metadata": {
        "colab": {
          "base_uri": "https://localhost:8080/"
        },
        "id": "5GBp27rrK6Ju",
        "outputId": "55f0e164-feec-409f-a774-4a1893e08643"
      },
      "id": "5GBp27rrK6Ju",
      "execution_count": 2,
      "outputs": [
        {
          "output_type": "stream",
          "name": "stdout",
          "text": [
            "A = tensor([1, 2, 3, 4])\n",
            "B = tensor([3, 2, 1, 4])\n",
            "C = tensor([[1, 2],\n",
            "        [3, 4]])\n"
          ]
        }
      ]
    },
    {
      "cell_type": "code",
      "source": [
        "# Tensor Addition\n",
        "result = torch.add(A, B)\n",
        "print(f\"result = {result}\")"
      ],
      "metadata": {
        "colab": {
          "base_uri": "https://localhost:8080/"
        },
        "id": "BLAcXZueNB4-",
        "outputId": "9c8c0095-01df-41ca-ba2b-122f5ef1582c"
      },
      "id": "BLAcXZueNB4-",
      "execution_count": 3,
      "outputs": [
        {
          "output_type": "stream",
          "name": "stdout",
          "text": [
            "result = tensor([4, 4, 4, 8])\n"
          ]
        }
      ]
    },
    {
      "cell_type": "code",
      "source": [
        "# Scalar Multiplication (Scalar -> 0D tensor)\n",
        "a = torch.tensor(3.0)\n",
        "b = torch.tensor(2.0)\n",
        "result = a * b\n",
        "print(f\"result = {result}\")"
      ],
      "metadata": {
        "colab": {
          "base_uri": "https://localhost:8080/"
        },
        "id": "WrexfYF6NE6p",
        "outputId": "9c53dc1b-a69d-4892-c8db-5f2a432780c4"
      },
      "id": "WrexfYF6NE6p",
      "execution_count": 4,
      "outputs": [
        {
          "output_type": "stream",
          "name": "stdout",
          "text": [
            "result = 6.0\n"
          ]
        }
      ]
    },
    {
      "cell_type": "code",
      "source": [
        "# Vector-Vector Multiplication (Dot Product between two 1D tensors)\n",
        "vector1 = torch.tensor([1, 2, 3, 4])\n",
        "vector2 = torch.tensor([3, 4, 2, 6])\n",
        "result = torch.matmul(vector1, vector2)\n",
        "print(f\"result = {result}\")"
      ],
      "metadata": {
        "colab": {
          "base_uri": "https://localhost:8080/"
        },
        "id": "Xa5kM68oOzkY",
        "outputId": "ea189ccc-be42-436d-f117-ccd5aed8c219"
      },
      "id": "Xa5kM68oOzkY",
      "execution_count": 5,
      "outputs": [
        {
          "output_type": "stream",
          "name": "stdout",
          "text": [
            "result = 41\n"
          ]
        }
      ]
    },
    {
      "cell_type": "code",
      "source": [
        "# Matrix-Vector Multiplication (2D tensor with 1D tensor) => Output is a Vector\n",
        "matrix = torch.tensor([[1, 2], [3, 4]])\n",
        "vector = torch.tensor([5, 6])\n",
        "result = torch.matmul(matrix, vector)\n",
        "print(f\"result = {result}\")"
      ],
      "metadata": {
        "colab": {
          "base_uri": "https://localhost:8080/"
        },
        "id": "ZHDeK89nPd2O",
        "outputId": "b4769ec3-2b5c-4462-89ee-cb9e48e57d08"
      },
      "id": "ZHDeK89nPd2O",
      "execution_count": 6,
      "outputs": [
        {
          "output_type": "stream",
          "name": "stdout",
          "text": [
            "result = tensor([17, 39])\n"
          ]
        }
      ]
    },
    {
      "cell_type": "code",
      "source": [
        "# Matrix-Matrix Multiplication\n",
        "matrix1 = torch.tensor([[1, 2], [3, 4]])\n",
        "matrix2 = torch.tensor([[2, 5], [3, 7]])\n",
        "result = torch.matmul(matrix1, matrix2)\n",
        "print(f\"result = {result}\")"
      ],
      "metadata": {
        "colab": {
          "base_uri": "https://localhost:8080/"
        },
        "id": "KSnAOa9jR3zG",
        "outputId": "e455a8aa-424c-4ee8-b92c-0028a3ccf7db"
      },
      "id": "KSnAOa9jR3zG",
      "execution_count": 7,
      "outputs": [
        {
          "output_type": "stream",
          "name": "stdout",
          "text": [
            "result = tensor([[ 8, 19],\n",
            "        [18, 43]])\n"
          ]
        }
      ]
    },
    {
      "cell_type": "code",
      "source": [
        "# Exponentiation\n",
        "result = 1 / (1 + torch.exp(A))\n",
        "print(f\"result = {result}\")\n",
        "result = 1 / (1 + torch.exp(C))\n",
        "print(f\"result = {result}\")"
      ],
      "metadata": {
        "colab": {
          "base_uri": "https://localhost:8080/"
        },
        "id": "ACR2mxQdTofe",
        "outputId": "1e291429-0e8b-4b6a-b56d-41d6109f4dfc"
      },
      "id": "ACR2mxQdTofe",
      "execution_count": 8,
      "outputs": [
        {
          "output_type": "stream",
          "name": "stdout",
          "text": [
            "result = tensor([0.2689, 0.1192, 0.0474, 0.0180])\n",
            "result = tensor([[0.2689, 0.1192],\n",
            "        [0.0474, 0.0180]])\n"
          ]
        }
      ]
    }
  ],
  "metadata": {
    "kernelspec": {
      "display_name": "Python 3",
      "name": "python3"
    },
    "language_info": {
      "name": "python"
    },
    "colab": {
      "provenance": [],
      "gpuType": "T4"
    }
  },
  "nbformat": 4,
  "nbformat_minor": 5
}