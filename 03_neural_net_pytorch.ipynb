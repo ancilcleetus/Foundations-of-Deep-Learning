{
  "cells": [
    {
      "cell_type": "markdown",
      "source": [
        "#Build a Neural Network with PyTorch"
      ],
      "metadata": {
        "id": "ejmAF3rR90aI"
      },
      "id": "ejmAF3rR90aI"
    },
    {
      "cell_type": "code",
      "execution_count": 1,
      "id": "30b88962-f0bf-4aca-92fe-5b02f54f4f7a",
      "metadata": {
        "id": "30b88962-f0bf-4aca-92fe-5b02f54f4f7a"
      },
      "outputs": [],
      "source": [
        "# Basic Imports\n",
        "import torch\n",
        "import torch.nn as nn"
      ]
    },
    {
      "cell_type": "markdown",
      "source": [
        "##Basic Operations"
      ],
      "metadata": {
        "id": "rZOYYVt9M0bb"
      },
      "id": "rZOYYVt9M0bb"
    },
    {
      "cell_type": "code",
      "source": [
        "A = torch.tensor([1, 2, 3, 4])\n",
        "B = torch.tensor([3, 2, 1, 4])\n",
        "C = torch.tensor([[1, 2], [3, 4]])\n",
        "\n",
        "print(f\"A = {A}\")\n",
        "print(f\"B = {B}\")\n",
        "print(f\"C = {C}\")"
      ],
      "metadata": {
        "colab": {
          "base_uri": "https://localhost:8080/"
        },
        "id": "5GBp27rrK6Ju",
        "outputId": "494ba3a7-9047-456e-8944-29f3393c1415"
      },
      "id": "5GBp27rrK6Ju",
      "execution_count": 2,
      "outputs": [
        {
          "output_type": "stream",
          "name": "stdout",
          "text": [
            "A = tensor([1, 2, 3, 4])\n",
            "B = tensor([3, 2, 1, 4])\n",
            "C = tensor([[1, 2],\n",
            "        [3, 4]])\n"
          ]
        }
      ]
    },
    {
      "cell_type": "code",
      "source": [
        "# Tensor Addition\n",
        "result = torch.add(A, B)\n",
        "print(f\"result = {result}\")"
      ],
      "metadata": {
        "colab": {
          "base_uri": "https://localhost:8080/"
        },
        "id": "BLAcXZueNB4-",
        "outputId": "65793db9-7dc3-436d-e766-974b82231878"
      },
      "id": "BLAcXZueNB4-",
      "execution_count": 3,
      "outputs": [
        {
          "output_type": "stream",
          "name": "stdout",
          "text": [
            "result = tensor([4, 4, 4, 8])\n"
          ]
        }
      ]
    },
    {
      "cell_type": "code",
      "source": [
        "# Scalar Multiplication (Scalar -> 0D tensor)\n",
        "a = torch.tensor(3.0)\n",
        "b = torch.tensor(2.0)\n",
        "result = a * b\n",
        "print(f\"result = {result}\")"
      ],
      "metadata": {
        "colab": {
          "base_uri": "https://localhost:8080/"
        },
        "id": "WrexfYF6NE6p",
        "outputId": "1f9d9dea-0b4b-42b0-bce1-ab5039d3ae95"
      },
      "id": "WrexfYF6NE6p",
      "execution_count": 4,
      "outputs": [
        {
          "output_type": "stream",
          "name": "stdout",
          "text": [
            "result = 6.0\n"
          ]
        }
      ]
    },
    {
      "cell_type": "code",
      "source": [
        "# Vector-Vector Multiplication (Dot Product between two 1D tensors)\n",
        "vector1 = torch.tensor([1, 2, 3, 4])\n",
        "vector2 = torch.tensor([3, 4, 2, 6])\n",
        "result = torch.matmul(vector1, vector2)\n",
        "print(f\"result = {result}\")"
      ],
      "metadata": {
        "colab": {
          "base_uri": "https://localhost:8080/"
        },
        "id": "Xa5kM68oOzkY",
        "outputId": "68fb32f3-dee3-4926-f441-2f971d44c554"
      },
      "id": "Xa5kM68oOzkY",
      "execution_count": 5,
      "outputs": [
        {
          "output_type": "stream",
          "name": "stdout",
          "text": [
            "result = 41\n"
          ]
        }
      ]
    },
    {
      "cell_type": "code",
      "source": [
        "# Matrix-Vector Multiplication (2D tensor with 1D tensor) => Output is a Vector\n",
        "matrix = torch.tensor([[1, 2], [3, 4]])\n",
        "vector = torch.tensor([5, 6])\n",
        "result = torch.matmul(matrix, vector)\n",
        "print(f\"result = {result}\")"
      ],
      "metadata": {
        "colab": {
          "base_uri": "https://localhost:8080/"
        },
        "id": "ZHDeK89nPd2O",
        "outputId": "1efd9b68-6193-4597-fd8d-2f5f7bdcc476"
      },
      "id": "ZHDeK89nPd2O",
      "execution_count": 6,
      "outputs": [
        {
          "output_type": "stream",
          "name": "stdout",
          "text": [
            "result = tensor([17, 39])\n"
          ]
        }
      ]
    },
    {
      "cell_type": "code",
      "source": [
        "# Matrix-Matrix Multiplication\n",
        "matrix1 = torch.tensor([[1, 2], [3, 4]])\n",
        "matrix2 = torch.tensor([[2, 5], [3, 7]])\n",
        "result = torch.matmul(matrix1, matrix2)\n",
        "print(f\"result = {result}\")"
      ],
      "metadata": {
        "colab": {
          "base_uri": "https://localhost:8080/"
        },
        "id": "KSnAOa9jR3zG",
        "outputId": "22897c09-6712-4fef-afa3-23e330505306"
      },
      "id": "KSnAOa9jR3zG",
      "execution_count": 7,
      "outputs": [
        {
          "output_type": "stream",
          "name": "stdout",
          "text": [
            "result = tensor([[ 8, 19],\n",
            "        [18, 43]])\n"
          ]
        }
      ]
    },
    {
      "cell_type": "code",
      "source": [
        "# Exponentiation\n",
        "result = 1 / (1 + torch.exp(A))\n",
        "print(f\"result = {result}\")\n",
        "result = 1 / (1 + torch.exp(C))\n",
        "print(f\"result = {result}\")"
      ],
      "metadata": {
        "colab": {
          "base_uri": "https://localhost:8080/"
        },
        "id": "ACR2mxQdTofe",
        "outputId": "54db3671-ce54-4ae0-9965-4cb623c40919"
      },
      "id": "ACR2mxQdTofe",
      "execution_count": 8,
      "outputs": [
        {
          "output_type": "stream",
          "name": "stdout",
          "text": [
            "result = tensor([0.2689, 0.1192, 0.0474, 0.0180])\n",
            "result = tensor([[0.2689, 0.1192],\n",
            "        [0.0474, 0.0180]])\n"
          ]
        }
      ]
    },
    {
      "cell_type": "markdown",
      "source": [
        "##Neuron"
      ],
      "metadata": {
        "id": "D9DLVGGAkt5C"
      },
      "id": "D9DLVGGAkt5C"
    },
    {
      "cell_type": "code",
      "source": [
        "def neuron(inputs):\n",
        "  weights = torch.tensor([0.5, 0.5, 0.5])\n",
        "  bias = torch.tensor([0.5])\n",
        "  weighted_sum = torch.matmul(weights, inputs) + bias\n",
        "  return weighted_sum\n",
        "\n",
        "inputs = torch.randn(3)\n",
        "print(f\"inputs = {inputs}\")\n",
        "weighted_sum = neuron(inputs)\n",
        "print(f\"weighted_sum = {weighted_sum}\")"
      ],
      "metadata": {
        "colab": {
          "base_uri": "https://localhost:8080/"
        },
        "id": "L-38oEXvkyNp",
        "outputId": "3d37bcc3-e756-4cb9-a655-59ea923d4827"
      },
      "id": "L-38oEXvkyNp",
      "execution_count": 9,
      "outputs": [
        {
          "output_type": "stream",
          "name": "stdout",
          "text": [
            "inputs = tensor([-1.3423,  0.1843, -1.5982])\n",
            "weighted_sum = tensor([-0.8781])\n"
          ]
        }
      ]
    }
  ],
  "metadata": {
    "kernelspec": {
      "display_name": "Python 3",
      "name": "python3"
    },
    "language_info": {
      "name": "python"
    },
    "colab": {
      "provenance": [],
      "gpuType": "T4"
    }
  },
  "nbformat": 4,
  "nbformat_minor": 5
}