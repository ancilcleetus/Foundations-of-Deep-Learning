{
  "cells": [
    {
      "cell_type": "markdown",
      "source": [
        "# Activation Functions with PyTorch"
      ],
      "metadata": {
        "id": "ejmAF3rR90aI"
      },
      "id": "ejmAF3rR90aI"
    },
    {
      "cell_type": "code",
      "execution_count": 1,
      "id": "30b88962-f0bf-4aca-92fe-5b02f54f4f7a",
      "metadata": {
        "id": "30b88962-f0bf-4aca-92fe-5b02f54f4f7a"
      },
      "outputs": [],
      "source": [
        "# Basic Imports\n",
        "import torch\n",
        "import torch.nn as nn"
      ]
    },
    {
      "cell_type": "markdown",
      "source": [
        "## Sigmoid"
      ],
      "metadata": {
        "id": "wCCHUmWV9psA"
      },
      "id": "wCCHUmWV9psA"
    },
    {
      "cell_type": "code",
      "source": [
        "activation_layer = nn.Sigmoid()\n",
        "inputs = torch.rand(2, 10)\n",
        "print(f\"inputs = {inputs}\")\n",
        "outputs = activation_layer(inputs)\n",
        "print(f\"outputs = {outputs}\")"
      ],
      "metadata": {
        "colab": {
          "base_uri": "https://localhost:8080/"
        },
        "id": "txzBYoSa9sfB",
        "outputId": "26982174-7311-47ef-e3a9-d2737d24288e"
      },
      "id": "txzBYoSa9sfB",
      "execution_count": 2,
      "outputs": [
        {
          "output_type": "stream",
          "name": "stdout",
          "text": [
            "inputs = tensor([[0.5646, 0.6796, 0.3535, 0.7606, 0.8364, 0.3837, 0.5515, 0.2970, 0.6153,\n",
            "         0.2115],\n",
            "        [0.9768, 0.0977, 0.8102, 0.4280, 0.6025, 0.7893, 0.0490, 0.6191, 0.6699,\n",
            "         0.0867]])\n",
            "outputs = tensor([[0.6375, 0.6637, 0.5875, 0.6815, 0.6977, 0.5948, 0.6345, 0.5737, 0.6492,\n",
            "         0.5527],\n",
            "        [0.7265, 0.5244, 0.6922, 0.6054, 0.6462, 0.6877, 0.5122, 0.6500, 0.6615,\n",
            "         0.5217]])\n"
          ]
        }
      ]
    },
    {
      "cell_type": "markdown",
      "source": [
        "## Tanh"
      ],
      "metadata": {
        "id": "6HsudvtKHj52"
      },
      "id": "6HsudvtKHj52"
    },
    {
      "cell_type": "code",
      "source": [
        "activation_layer = nn.Tanh()\n",
        "inputs = torch.rand(2, 10)\n",
        "print(f\"inputs = {inputs}\")\n",
        "outputs = activation_layer(inputs)\n",
        "print(f\"outputs = {outputs}\")"
      ],
      "metadata": {
        "colab": {
          "base_uri": "https://localhost:8080/"
        },
        "id": "VzeFKwC_Hl6F",
        "outputId": "37b09983-2617-4871-8afe-373ade3d0676"
      },
      "id": "VzeFKwC_Hl6F",
      "execution_count": 3,
      "outputs": [
        {
          "output_type": "stream",
          "name": "stdout",
          "text": [
            "inputs = tensor([[0.3093, 0.1581, 0.8440, 0.1883, 0.7460, 0.1504, 0.8686, 0.5418, 0.4426,\n",
            "         0.6038],\n",
            "        [0.4070, 0.6329, 0.2719, 0.1326, 0.5286, 0.9464, 0.3659, 0.7250, 0.2632,\n",
            "         0.1934]])\n",
            "outputs = tensor([[0.2998, 0.1568, 0.6879, 0.1861, 0.6327, 0.1493, 0.7007, 0.4944, 0.4158,\n",
            "         0.5397],\n",
            "        [0.3859, 0.5601, 0.2654, 0.1319, 0.4843, 0.7382, 0.3504, 0.6200, 0.2573,\n",
            "         0.1911]])\n"
          ]
        }
      ]
    },
    {
      "cell_type": "markdown",
      "source": [
        "## ReLU"
      ],
      "metadata": {
        "id": "fMYyss6uKP10"
      },
      "id": "fMYyss6uKP10"
    },
    {
      "cell_type": "code",
      "source": [
        "activation_layer = nn.ReLU()\n",
        "inputs = torch.rand(2, 10)\n",
        "print(f\"inputs = {inputs}\")\n",
        "outputs = activation_layer(inputs)\n",
        "print(f\"outputs = {outputs}\")"
      ],
      "metadata": {
        "colab": {
          "base_uri": "https://localhost:8080/"
        },
        "id": "cyL48w-jKSWi",
        "outputId": "b2ebf1d8-f8a2-498a-a94c-d0818113652a"
      },
      "id": "cyL48w-jKSWi",
      "execution_count": 4,
      "outputs": [
        {
          "output_type": "stream",
          "name": "stdout",
          "text": [
            "inputs = tensor([[0.9812, 0.6461, 0.2415, 0.1983, 0.4607, 0.3526, 0.6049, 0.8425, 0.1804,\n",
            "         0.9441],\n",
            "        [0.8609, 0.9314, 0.9190, 0.4405, 0.9044, 0.1366, 0.3382, 0.8106, 0.5524,\n",
            "         0.5038]])\n",
            "outputs = tensor([[0.9812, 0.6461, 0.2415, 0.1983, 0.4607, 0.3526, 0.6049, 0.8425, 0.1804,\n",
            "         0.9441],\n",
            "        [0.8609, 0.9314, 0.9190, 0.4405, 0.9044, 0.1366, 0.3382, 0.8106, 0.5524,\n",
            "         0.5038]])\n"
          ]
        }
      ]
    },
    {
      "cell_type": "markdown",
      "source": [
        "## Leaky ReLU"
      ],
      "metadata": {
        "id": "Fi3xDAKbNJQk"
      },
      "id": "Fi3xDAKbNJQk"
    },
    {
      "cell_type": "code",
      "source": [
        "activation_layer = nn.LeakyReLU(0.01)\n",
        "inputs = torch.rand(2, 10)\n",
        "print(f\"inputs = {inputs}\")\n",
        "outputs = activation_layer(inputs)\n",
        "print(f\"outputs = {outputs}\")"
      ],
      "metadata": {
        "colab": {
          "base_uri": "https://localhost:8080/"
        },
        "id": "BdQ1EqbyNNTj",
        "outputId": "d0d22119-5669-4ec3-c231-6b4a5fff13af"
      },
      "id": "BdQ1EqbyNNTj",
      "execution_count": 5,
      "outputs": [
        {
          "output_type": "stream",
          "name": "stdout",
          "text": [
            "inputs = tensor([[0.2898, 0.1325, 0.5299, 0.6570, 0.5018, 0.0794, 0.9770, 0.5887, 0.0109,\n",
            "         0.1605],\n",
            "        [0.1347, 0.4277, 0.4653, 0.0157, 0.6063, 0.7504, 0.6934, 0.7501, 0.2897,\n",
            "         0.6946]])\n",
            "outputs = tensor([[0.2898, 0.1325, 0.5299, 0.6570, 0.5018, 0.0794, 0.9770, 0.5887, 0.0109,\n",
            "         0.1605],\n",
            "        [0.1347, 0.4277, 0.4653, 0.0157, 0.6063, 0.7504, 0.6934, 0.7501, 0.2897,\n",
            "         0.6946]])\n"
          ]
        }
      ]
    },
    {
      "cell_type": "markdown",
      "source": [
        "## Parametric ReLU"
      ],
      "metadata": {
        "id": "xGoV24UcYOeU"
      },
      "id": "xGoV24UcYOeU"
    },
    {
      "cell_type": "code",
      "source": [
        "activation_layer = nn.PReLU()\n",
        "inputs = torch.rand(2, 10)\n",
        "print(f\"inputs = {inputs}\")\n",
        "outputs = activation_layer(inputs)\n",
        "print(f\"outputs = {outputs}\")"
      ],
      "metadata": {
        "colab": {
          "base_uri": "https://localhost:8080/"
        },
        "id": "0p_88xKQYRWr",
        "outputId": "e82bf77a-bbc6-41cf-8226-e01dd8f3a407"
      },
      "id": "0p_88xKQYRWr",
      "execution_count": 6,
      "outputs": [
        {
          "output_type": "stream",
          "name": "stdout",
          "text": [
            "inputs = tensor([[0.8819, 0.8302, 0.5724, 0.9631, 0.0054, 0.0655, 0.8246, 0.2583, 0.4894,\n",
            "         0.4345],\n",
            "        [0.3215, 0.2540, 0.4686, 0.7945, 0.3796, 0.8357, 0.4693, 0.5209, 0.3627,\n",
            "         0.3546]])\n",
            "outputs = tensor([[0.8819, 0.8302, 0.5724, 0.9631, 0.0054, 0.0655, 0.8246, 0.2583, 0.4894,\n",
            "         0.4345],\n",
            "        [0.3215, 0.2540, 0.4686, 0.7945, 0.3796, 0.8357, 0.4693, 0.5209, 0.3627,\n",
            "         0.3546]], grad_fn=<PreluKernelBackward0>)\n"
          ]
        }
      ]
    },
    {
      "cell_type": "markdown",
      "source": [
        "## Softmax"
      ],
      "metadata": {
        "id": "UXDPTWAbb3Ns"
      },
      "id": "UXDPTWAbb3Ns"
    },
    {
      "cell_type": "code",
      "source": [
        "activation_layer = nn.Softmax(dim=-1)\n",
        "inputs = torch.rand(2, 10)\n",
        "print(f\"inputs = {inputs}\")\n",
        "outputs = activation_layer(inputs)\n",
        "print(f\"outputs = {outputs}\")"
      ],
      "metadata": {
        "colab": {
          "base_uri": "https://localhost:8080/"
        },
        "id": "J0wb6f0Vb4u-",
        "outputId": "3bab7fa5-a77f-47ee-bbeb-58ac08ec7f6f"
      },
      "id": "J0wb6f0Vb4u-",
      "execution_count": 7,
      "outputs": [
        {
          "output_type": "stream",
          "name": "stdout",
          "text": [
            "inputs = tensor([[0.2254, 0.8514, 0.7535, 0.7466, 0.4756, 0.9078, 0.1513, 0.1108, 0.7905,\n",
            "         0.5774],\n",
            "        [0.5307, 0.6737, 0.3494, 0.8077, 0.2785, 0.7858, 0.7787, 0.9076, 0.5528,\n",
            "         0.4652]])\n",
            "outputs = tensor([[0.0689, 0.1288, 0.1168, 0.1160, 0.0885, 0.1363, 0.0640, 0.0614, 0.1212,\n",
            "         0.0980],\n",
            "        [0.0903, 0.1042, 0.0753, 0.1191, 0.0702, 0.1166, 0.1157, 0.1317, 0.0923,\n",
            "         0.0846]])\n"
          ]
        }
      ]
    }
  ],
  "metadata": {
    "kernelspec": {
      "display_name": "Python 3",
      "name": "python3"
    },
    "language_info": {
      "name": "python"
    },
    "colab": {
      "provenance": [],
      "gpuType": "T4"
    },
    "accelerator": "GPU"
  },
  "nbformat": 4,
  "nbformat_minor": 5
}