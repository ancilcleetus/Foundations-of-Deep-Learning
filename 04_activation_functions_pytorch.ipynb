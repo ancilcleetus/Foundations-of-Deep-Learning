{
  "cells": [
    {
      "cell_type": "markdown",
      "source": [
        "# Activation Functions with PyTorch"
      ],
      "metadata": {
        "id": "ejmAF3rR90aI"
      },
      "id": "ejmAF3rR90aI"
    },
    {
      "cell_type": "code",
      "execution_count": 1,
      "id": "30b88962-f0bf-4aca-92fe-5b02f54f4f7a",
      "metadata": {
        "id": "30b88962-f0bf-4aca-92fe-5b02f54f4f7a"
      },
      "outputs": [],
      "source": [
        "# Basic Imports\n",
        "import torch\n",
        "import torch.nn as nn"
      ]
    },
    {
      "cell_type": "markdown",
      "source": [
        "## Sigmoid"
      ],
      "metadata": {
        "id": "wCCHUmWV9psA"
      },
      "id": "wCCHUmWV9psA"
    },
    {
      "cell_type": "code",
      "source": [
        "activation_layer = nn.Sigmoid()\n",
        "inputs = torch.rand(2, 10)\n",
        "print(f\"inputs = {inputs}\")\n",
        "outputs = activation_layer(inputs)\n",
        "print(f\"outputs = {outputs}\")"
      ],
      "metadata": {
        "colab": {
          "base_uri": "https://localhost:8080/"
        },
        "id": "txzBYoSa9sfB",
        "outputId": "c5f14518-f7c8-4712-91a0-2c0c378e0157"
      },
      "id": "txzBYoSa9sfB",
      "execution_count": 2,
      "outputs": [
        {
          "output_type": "stream",
          "name": "stdout",
          "text": [
            "inputs = tensor([[0.5249, 0.3887, 0.6569, 0.5410, 0.7048, 0.4004, 0.0727, 0.4565, 0.3193,\n",
            "         0.4558],\n",
            "        [0.3888, 0.2458, 0.4018, 0.9783, 0.9398, 0.8834, 0.2049, 0.5411, 0.8149,\n",
            "         0.4225]])\n",
            "outputs = tensor([[0.6283, 0.5960, 0.6586, 0.6321, 0.6693, 0.5988, 0.5182, 0.6122, 0.5792,\n",
            "         0.6120],\n",
            "        [0.5960, 0.5611, 0.5991, 0.7268, 0.7191, 0.7075, 0.5510, 0.6321, 0.6932,\n",
            "         0.6041]])\n"
          ]
        }
      ]
    }
  ],
  "metadata": {
    "kernelspec": {
      "display_name": "Python 3",
      "name": "python3"
    },
    "language_info": {
      "name": "python"
    },
    "colab": {
      "provenance": [],
      "gpuType": "T4"
    },
    "accelerator": "GPU"
  },
  "nbformat": 4,
  "nbformat_minor": 5
}