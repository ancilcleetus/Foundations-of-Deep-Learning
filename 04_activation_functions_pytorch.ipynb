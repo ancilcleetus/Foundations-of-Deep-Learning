{
  "cells": [
    {
      "cell_type": "markdown",
      "source": [
        "# Activation Functions with PyTorch"
      ],
      "metadata": {
        "id": "ejmAF3rR90aI"
      },
      "id": "ejmAF3rR90aI"
    },
    {
      "cell_type": "code",
      "execution_count": 1,
      "id": "30b88962-f0bf-4aca-92fe-5b02f54f4f7a",
      "metadata": {
        "id": "30b88962-f0bf-4aca-92fe-5b02f54f4f7a"
      },
      "outputs": [],
      "source": [
        "# Basic Imports\n",
        "import torch\n",
        "import torch.nn as nn"
      ]
    },
    {
      "cell_type": "markdown",
      "source": [
        "## Sigmoid"
      ],
      "metadata": {
        "id": "wCCHUmWV9psA"
      },
      "id": "wCCHUmWV9psA"
    },
    {
      "cell_type": "code",
      "source": [
        "activation_layer = nn.Sigmoid()\n",
        "inputs = torch.rand(2, 10)\n",
        "print(f\"inputs = {inputs}\")\n",
        "outputs = activation_layer(inputs)\n",
        "print(f\"outputs = {outputs}\")"
      ],
      "metadata": {
        "colab": {
          "base_uri": "https://localhost:8080/"
        },
        "id": "txzBYoSa9sfB",
        "outputId": "b42af62d-bade-4514-ab8e-5e53b60b4380"
      },
      "id": "txzBYoSa9sfB",
      "execution_count": 2,
      "outputs": [
        {
          "output_type": "stream",
          "name": "stdout",
          "text": [
            "inputs = tensor([[0.7675, 0.6414, 0.4056, 0.6194, 0.6157, 0.0192, 0.1847, 0.6711, 0.5987,\n",
            "         0.4830],\n",
            "        [0.5447, 0.1950, 0.4114, 0.7575, 0.2630, 0.2534, 0.4290, 0.7371, 0.9335,\n",
            "         0.4284]])\n",
            "outputs = tensor([[0.6830, 0.6551, 0.6000, 0.6501, 0.6492, 0.5048, 0.5461, 0.6618, 0.6454,\n",
            "         0.6185],\n",
            "        [0.6329, 0.5486, 0.6014, 0.6808, 0.5654, 0.5630, 0.6056, 0.6764, 0.7178,\n",
            "         0.6055]])\n"
          ]
        }
      ]
    },
    {
      "cell_type": "markdown",
      "source": [
        "## Tanh"
      ],
      "metadata": {
        "id": "6HsudvtKHj52"
      },
      "id": "6HsudvtKHj52"
    },
    {
      "cell_type": "code",
      "source": [
        "activation_layer = nn.Tanh()\n",
        "inputs = torch.rand(2, 10)\n",
        "print(f\"inputs = {inputs}\")\n",
        "outputs = activation_layer(inputs)\n",
        "print(f\"outputs = {outputs}\")"
      ],
      "metadata": {
        "colab": {
          "base_uri": "https://localhost:8080/"
        },
        "id": "VzeFKwC_Hl6F",
        "outputId": "cd3e9ffb-4522-4493-ab5c-8112857623c4"
      },
      "id": "VzeFKwC_Hl6F",
      "execution_count": 3,
      "outputs": [
        {
          "output_type": "stream",
          "name": "stdout",
          "text": [
            "inputs = tensor([[0.0673, 0.8632, 0.7466, 0.3705, 0.2190, 0.8052, 0.6870, 0.4995, 0.5330,\n",
            "         0.7753],\n",
            "        [0.7314, 0.7213, 0.7693, 0.2850, 0.2607, 0.0504, 0.4724, 0.4098, 0.7723,\n",
            "         0.9176]])\n",
            "outputs = tensor([[0.0672, 0.6979, 0.6331, 0.3545, 0.2156, 0.6669, 0.5961, 0.4617, 0.4876,\n",
            "         0.6500],\n",
            "        [0.6239, 0.6177, 0.6465, 0.2775, 0.2549, 0.0503, 0.4401, 0.3883, 0.6483,\n",
            "         0.7247]])\n"
          ]
        }
      ]
    }
  ],
  "metadata": {
    "kernelspec": {
      "display_name": "Python 3",
      "name": "python3"
    },
    "language_info": {
      "name": "python"
    },
    "colab": {
      "provenance": [],
      "gpuType": "T4"
    },
    "accelerator": "GPU"
  },
  "nbformat": 4,
  "nbformat_minor": 5
}