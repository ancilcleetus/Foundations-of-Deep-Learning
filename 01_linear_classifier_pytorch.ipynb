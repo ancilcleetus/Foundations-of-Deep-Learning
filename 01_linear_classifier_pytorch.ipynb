{
 "cells": [
  {
   "cell_type": "code",
   "execution_count": null,
   "id": "30b88962-f0bf-4aca-92fe-5b02f54f4f7a",
   "metadata": {},
   "outputs": [],
   "source": [
    "# Basic Imports\n",
    "import torch\n",
    "import torch.nn as nn"
   ]
  },
  {
   "cell_type": "code",
   "execution_count": null,
   "id": "c6f9ba73-1cab-4f91-a3c3-57fa76e30841",
   "metadata": {},
   "outputs": [],
   "source": [
    "# Linear Classifier with 10 inputs & 3 outputs\n",
    "classifier = nn.Linear(10, 3)\n",
    "# Mean Square Error Loss\n",
    "loss_fn = nn.MSELoss()"
   ]
  },
  {
   "cell_type": "code",
   "execution_count": null,
   "id": "d86d3e6d-ba10-4280-bdb3-08ab716debec",
   "metadata": {},
   "outputs": [],
   "source": [
    "input_vector = torch.randn(10)\n",
    "target = torch.tensor([0, 1, 0])\n",
    "\n",
    "pred = classifier(input_vector)\n",
    "loss = loss_fn(pred, target)\n",
    "print(f\"pred = {pred}, target = {target}\")\n",
    "print(f\"loss = {loss}\")"
   ]
  }
 ],
 "metadata": {
  "kernelspec": {
   "display_name": "dl_env38",
   "language": "python",
   "name": "dl_env38"
  },
  "language_info": {
   "codemirror_mode": {
    "name": "ipython",
    "version": 3
   },
   "file_extension": ".py",
   "mimetype": "text/x-python",
   "name": "python",
   "nbconvert_exporter": "python",
   "pygments_lexer": "ipython3",
   "version": "3.8.10"
  }
 },
 "nbformat": 4,
 "nbformat_minor": 5
}
