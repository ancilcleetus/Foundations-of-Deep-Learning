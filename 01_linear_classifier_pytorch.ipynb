{
  "cells": [
    {
      "cell_type": "markdown",
      "source": [
        "A Simple Linear Classifier Training Loop with PyTorch"
      ],
      "metadata": {
        "id": "ejmAF3rR90aI"
      },
      "id": "ejmAF3rR90aI"
    },
    {
      "cell_type": "code",
      "execution_count": 1,
      "id": "30b88962-f0bf-4aca-92fe-5b02f54f4f7a",
      "metadata": {
        "id": "30b88962-f0bf-4aca-92fe-5b02f54f4f7a"
      },
      "outputs": [],
      "source": [
        "# Basic Imports\n",
        "import torch\n",
        "import torch.nn as nn"
      ]
    },
    {
      "cell_type": "code",
      "execution_count": 2,
      "id": "c6f9ba73-1cab-4f91-a3c3-57fa76e30841",
      "metadata": {
        "id": "c6f9ba73-1cab-4f91-a3c3-57fa76e30841"
      },
      "outputs": [],
      "source": [
        "# Linear Classifier with 10 inputs & 3 outputs\n",
        "model = nn.Linear(4, 2)\n",
        "# Mean Square Error Loss\n",
        "criterion = nn.MSELoss()\n",
        "optimizer = torch.optim.SGD(model.parameters(), lr=0.1)"
      ]
    },
    {
      "cell_type": "code",
      "source": [
        "def train(model, criterion, optimizer, epochs):\n",
        "  for epoch in range(epochs):\n",
        "    inputs = torch.Tensor([0.75, 0.35, 0.45, 0.2])\n",
        "    labels = torch.Tensor([1, 0])\n",
        "    # Clear gradient buffers because we don't want any gradient from previous epoch to carry forward\n",
        "    optimizer.zero_grad()\n",
        "\n",
        "    outputs = model(inputs)\n",
        "    print(f\"outputs = {outputs}\")\n",
        "\n",
        "    loss = criterion(outputs, labels)\n",
        "    print(f\"loss = {loss}\")\n",
        "\n",
        "    # Compute gradients wrt parameters\n",
        "    loss.backward()\n",
        "\n",
        "    # Update parameters\n",
        "    optimizer.step()\n",
        "\n",
        "    print(f\"Epoch {epoch+1} loss = {loss}\")"
      ],
      "metadata": {
        "id": "mU8JG5GB7Nsc"
      },
      "id": "mU8JG5GB7Nsc",
      "execution_count": 3,
      "outputs": []
    },
    {
      "cell_type": "code",
      "source": [
        "train(model, criterion, optimizer, 25)"
      ],
      "metadata": {
        "colab": {
          "base_uri": "https://localhost:8080/"
        },
        "id": "8MZfyhBG89SK",
        "outputId": "7f5492b6-e9e5-4523-d74c-04cfed356f88"
      },
      "id": "8MZfyhBG89SK",
      "execution_count": 4,
      "outputs": [
        {
          "output_type": "stream",
          "name": "stdout",
          "text": [
            "outputs = tensor([0.0427, 0.0376], grad_fn=<AddBackward0>)\n",
            "loss = 0.4589308798313141\n",
            "Epoch 1 loss = 0.4589308798313141\n",
            "outputs = tensor([0.2272, 0.0303], grad_fn=<AddBackward0>)\n",
            "loss = 0.29906344413757324\n",
            "Epoch 2 loss = 0.29906344413757324\n",
            "outputs = tensor([0.3762, 0.0245], grad_fn=<AddBackward0>)\n",
            "loss = 0.1948854625225067\n",
            "Epoch 3 loss = 0.1948854625225067\n",
            "outputs = tensor([0.4964, 0.0198], grad_fn=<AddBackward0>)\n",
            "loss = 0.12699763476848602\n",
            "Epoch 4 loss = 0.12699763476848602\n",
            "outputs = tensor([0.5935, 0.0160], grad_fn=<AddBackward0>)\n",
            "loss = 0.082758329808712\n",
            "Epoch 5 loss = 0.082758329808712\n",
            "outputs = tensor([0.6718, 0.0129], grad_fn=<AddBackward0>)\n",
            "loss = 0.05392967164516449\n",
            "Epoch 6 loss = 0.05392967164516449\n",
            "outputs = tensor([0.7351, 0.0104], grad_fn=<AddBackward0>)\n",
            "loss = 0.035143423825502396\n",
            "Epoch 7 loss = 0.035143423825502396\n",
            "outputs = tensor([0.7861, 0.0084], grad_fn=<AddBackward0>)\n",
            "loss = 0.022901304066181183\n",
            "Epoch 8 loss = 0.022901304066181183\n",
            "outputs = tensor([0.8274, 0.0068], grad_fn=<AddBackward0>)\n",
            "loss = 0.014923682436347008\n",
            "Epoch 9 loss = 0.014923682436347008\n",
            "outputs = tensor([0.8606, 0.0055], grad_fn=<AddBackward0>)\n",
            "loss = 0.00972505658864975\n",
            "Epoch 10 loss = 0.00972505658864975\n",
            "outputs = tensor([0.8875, 0.0044], grad_fn=<AddBackward0>)\n",
            "loss = 0.0063373674638569355\n",
            "Epoch 11 loss = 0.0063373674638569355\n",
            "outputs = tensor([0.9092, 0.0036], grad_fn=<AddBackward0>)\n",
            "loss = 0.00412975437939167\n",
            "Epoch 12 loss = 0.00412975437939167\n",
            "outputs = tensor([0.9267, 0.0029], grad_fn=<AddBackward0>)\n",
            "loss = 0.002691165544092655\n",
            "Epoch 13 loss = 0.002691165544092655\n",
            "outputs = tensor([0.9408, 0.0023], grad_fn=<AddBackward0>)\n",
            "loss = 0.0017537034582346678\n",
            "Epoch 14 loss = 0.0017537034582346678\n",
            "outputs = tensor([0.9522, 0.0019], grad_fn=<AddBackward0>)\n",
            "loss = 0.0011428097495809197\n",
            "Epoch 15 loss = 0.0011428097495809197\n",
            "outputs = tensor([0.9614, 0.0015], grad_fn=<AddBackward0>)\n",
            "loss = 0.0007447133539244533\n",
            "Epoch 16 loss = 0.0007447133539244533\n",
            "outputs = tensor([0.9689, 0.0012], grad_fn=<AddBackward0>)\n",
            "loss = 0.0004852935380768031\n",
            "Epoch 17 loss = 0.0004852935380768031\n",
            "outputs = tensor([0.9749, 0.0010], grad_fn=<AddBackward0>)\n",
            "loss = 0.0003162416978739202\n",
            "Epoch 18 loss = 0.0003162416978739202\n",
            "outputs = tensor([9.7971e-01, 7.9662e-04], grad_fn=<AddBackward0>)\n",
            "loss = 0.0002060798869933933\n",
            "Epoch 19 loss = 0.0002060798869933933\n",
            "outputs = tensor([9.8362e-01, 6.4304e-04], grad_fn=<AddBackward0>)\n",
            "loss = 0.00013429179671220481\n",
            "Epoch 20 loss = 0.00013429179671220481\n",
            "outputs = tensor([9.8678e-01, 5.1913e-04], grad_fn=<AddBackward0>)\n",
            "loss = 8.751200948609039e-05\n",
            "Epoch 21 loss = 8.751200948609039e-05\n",
            "outputs = tensor([9.8933e-01, 4.1905e-04], grad_fn=<AddBackward0>)\n",
            "loss = 5.702758426195942e-05\n",
            "Epoch 22 loss = 5.702758426195942e-05\n",
            "outputs = tensor([9.9139e-01, 3.3829e-04], grad_fn=<AddBackward0>)\n",
            "loss = 3.7162368244025856e-05\n",
            "Epoch 23 loss = 3.7162368244025856e-05\n",
            "outputs = tensor([9.9305e-01, 2.7308e-04], grad_fn=<AddBackward0>)\n",
            "loss = 2.4216857127612457e-05\n",
            "Epoch 24 loss = 2.4216857127612457e-05\n",
            "outputs = tensor([9.9439e-01, 2.2045e-04], grad_fn=<AddBackward0>)\n",
            "loss = 1.5781026377226226e-05\n",
            "Epoch 25 loss = 1.5781026377226226e-05\n"
          ]
        }
      ]
    }
  ],
  "metadata": {
    "kernelspec": {
      "display_name": "Python 3",
      "name": "python3"
    },
    "language_info": {
      "name": "python"
    },
    "colab": {
      "provenance": [],
      "gpuType": "T4"
    },
    "accelerator": "GPU"
  },
  "nbformat": 4,
  "nbformat_minor": 5
}